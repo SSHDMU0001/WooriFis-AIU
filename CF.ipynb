{
  "nbformat": 4,
  "nbformat_minor": 0,
  "metadata": {
    "colab": {
      "name": "CF",
      "provenance": [],
      "authorship_tag": "ABX9TyMCPzYxjasc57F0toVMma2d",
      "include_colab_link": true
    },
    "kernelspec": {
      "name": "python3",
      "display_name": "Python 3"
    },
    "language_info": {
      "name": "python"
    }
  },
  "cells": [
    {
      "cell_type": "markdown",
      "metadata": {
        "id": "view-in-github",
        "colab_type": "text"
      },
      "source": [
        "<a href=\"https://colab.research.google.com/github/SSHDMU0001/WooriFis-AIU/blob/main/CF.ipynb\" target=\"_parent\"><img src=\"https://colab.research.google.com/assets/colab-badge.svg\" alt=\"Open In Colab\"/></a>"
      ]
    },
    {
      "cell_type": "code",
      "execution_count": 32,
      "metadata": {
        "colab": {
          "base_uri": "https://localhost:8080/"
        },
        "id": "qYf-rcAaXhHf",
        "outputId": "e25d70d7-6690-4dc0-fe0d-61f1b691c968"
      },
      "outputs": [
        {
          "output_type": "stream",
          "name": "stdout",
          "text": [
            "(9064, 671)\n",
            "(9064, 9064)\n"
          ]
        },
        {
          "output_type": "execute_result",
          "data": {
            "text/plain": [
              "title\n",
              "Godfather, The (1972)                        1.000000\n",
              "Godfather: Part II, The (1974)               0.773685\n",
              "Goodfellas (1990)                            0.620349\n",
              "One Flew Over the Cuckoo's Nest (1975)       0.568244\n",
              "American Beauty (1999)                       0.557997\n",
              "Star Wars: Episode IV - A New Hope (1977)    0.546750\n",
              "Name: Godfather, The (1972), dtype: float64"
            ]
          },
          "metadata": {},
          "execution_count": 32
        }
      ],
      "source": [
        "import pandas as pd\n",
        "import numpy as np\n",
        "import matplotlib.pyplot as plt\n",
        "import seaborn as sns\n",
        "from ast import literal_eval\n",
        "from sklearn.feature_extraction.text import TfidfVectorizer\n",
        "from sklearn.feature_extraction.text import CountVectorizer\n",
        "from sklearn.metrics.pairwise import cosine_similarity\n",
        "\n",
        "rating_data = pd.read_csv('./movie_lens/ratings.csv')\n",
        "movie_data = pd.read_csv('./movie_lens/movies.csv')\n",
        "\n",
        "rating_data.head(2)\n",
        "\n",
        "movie_data.head(2)\n",
        "\n",
        "rating_data.drop('timestamp', axis = 1, inplace=True)\n",
        "rating_data.head(2)\n",
        "\n",
        "user_movie_rating = pd.merge(rating_data, movie_data, on = 'movieId')\n",
        "\n",
        "user_movie_rating.head(2)\n",
        "\n",
        "movie_user_rating = user_movie_rating.pivot_table('rating', index = 'title', columns='userId')\n",
        "user_movie_rating = user_movie_rating.pivot_table('rating', index = 'userId', columns='title')\n",
        "\n",
        "user_movie_rating.head(5)\n",
        "\n",
        "movie_user_rating.head()\n",
        "\n",
        "movie_user_rating.fillna(0, inplace = True)\n",
        "movie_user_rating.head(3)\n",
        "\n",
        "item_based_collabor = cosine_similarity(movie_user_rating)\n",
        "item_based_collabor\n",
        "\n",
        "print(movie_user_rating.shape)\n",
        "print(item_based_collabor.shape)\n",
        "\n",
        "item_based_collabor = pd.DataFrame(data = item_based_collabor, index = movie_user_rating.index, columns = movie_user_rating.index)\n",
        "\n",
        "item_based_collabor.head()\n",
        "\n",
        "def get_item_based_collabor(title):\n",
        "    return item_based_collabor[title].sort_values(ascending=False)[:6]\n",
        "\n",
        "\n",
        "get_item_based_collabor('Godfather, The (1972)')"
      ]
    }
  ]
}